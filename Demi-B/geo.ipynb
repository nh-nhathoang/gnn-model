{
 "cells": [
  {
   "cell_type": "markdown",
   "metadata": {},
   "source": [
    "# Visualize geometry"
   ]
  },
  {
   "cell_type": "code",
   "execution_count": 1,
   "metadata": {},
   "outputs": [
    {
     "data": {
      "text/plain": [
       "['*Heading\\n',\n",
       " '** Generated with Matlab script\\n',\n",
       " '*Preprint, echo=NO, model=NO, history=NO, contact=NO\\n',\n",
       " '**\\n',\n",
       " '** PARTS\\n',\n",
       " '**\\n',\n",
       " '*Part, name=Lattice\\n',\n",
       " '*Node\\n',\n",
       " '      1,      0.000000,      8.660254\\n',\n",
       " '      2,      0.000000,     35.980763\\n',\n",
       " '      3,      0.000000,     63.301272\\n',\n",
       " '      4,      0.000000,     90.621781\\n',\n",
       " '      5,      3.660254,     22.320509\\n',\n",
       " '      6,      3.660254,     49.641018\\n',\n",
       " '      7,      3.660254,     76.961527\\n',\n",
       " '      8,      3.660254,    104.282036\\n',\n",
       " '      9,      8.660254,      3.660254\\n',\n",
       " '     10,      8.660254,     13.660255\\n',\n",
       " '     11,      8.660254,     30.980761\\n',\n",
       " '     12,      8.660254,     40.980764\\n']"
      ]
     },
     "execution_count": 1,
     "metadata": {},
     "output_type": "execute_result"
    }
   ],
   "source": [
    "#check the contents of .inp file\n",
    "refer = \"inp_files/Demi-B10L_R00_n01.inp\"\n",
    "fopen = open(refer, \"r\")\n",
    "line = fopen.readlines()\n",
    "\n",
    "line[:20]"
   ]
  },
  {
   "cell_type": "code",
   "execution_count": 2,
   "metadata": {},
   "outputs": [],
   "source": [
    "import os\n",
    "import re\n",
    "import numpy as np\n",
    "import matplotlib.pyplot as plt\n",
    "\n",
    "input_folder = \"inp_files\"\n",
    "output_folder = \"data_viz\"\n",
    "\n",
    "#if visualization for all inp files\n",
    "#inp_files = [f for f in os.listdir(input_folder) if f.endswith(\".inp\")]\n",
    "#output_folder = \"plots\"\n",
    "\n",
    "preflix = 'Demi-B10L_'\n",
    "\n",
    "files = ['R00_n01.inp',\n",
    "        'R01_n01.inp', 'R01_n02.inp', 'R01_n03.inp', 'R01_n10.inp', 'R01_n20.inp',\n",
    "        'R20_n01.inp', 'R20_n02.inp', 'R20_n03.inp', 'R20_n10.inp', 'R20_n20.inp',\n",
    "        'R50_n01.inp', 'R50_n02.inp', 'R50_n03.inp', 'R50_n10.inp', 'R50_n20.inp']\n",
    "\n",
    "inp_files = [preflix + f for f in files]\n",
    "\n",
    "# Move these to the top of your script (outside the loop)\n",
    "plt.rcParams['font.serif'] = ['Times New Roman']\n",
    "plt.rcParams['font.size'] = 13\n",
    "\n",
    "#extract edges and nodes from each file\n",
    "for file_name in inp_files:\n",
    "    file = os.path.join(input_folder, file_name)\n",
    "    data = open(file, \"r\")\n",
    "    lines = data.readlines()\n",
    "    \n",
    "    nodes = []\n",
    "    elements = []\n",
    "    recording_nodes = False\n",
    "    recording_elements = False\n",
    "    \n",
    "    for line in lines:\n",
    "        line = line.strip()\n",
    "        if line.startswith(\"*Node\"):\n",
    "            recording_nodes = True\n",
    "            continue\n",
    "        elif line.startswith(\"*Element\"):\n",
    "            recording_nodes = False\n",
    "            recording_elements = True\n",
    "            continue\n",
    "        elif line.startswith(\"*\") and recording_elements:\n",
    "            break\n",
    "\n",
    "        if recording_nodes:\n",
    "            parts = line.split(\",\")\n",
    "            node_id = int(parts[0])\n",
    "            x, y = float(parts[1]), float(parts[2])\n",
    "            nodes.append((node_id, x, y))\n",
    "        \n",
    "        if recording_elements:\n",
    "            parts = line.split(\",\")\n",
    "            element_id = int(parts[0])\n",
    "            node1, node2 = int(parts[1]), int(parts[2])\n",
    "            elements.append((element_id, node1, node2))\n",
    "    \n",
    "    node_dict = {node[0]: (node[1], node[2]) for node in nodes}\n",
    "    nodes_array = np.array(nodes)\n",
    "\n",
    "    #plot each lattice\n",
    "    fig, ax = plt.subplots(figsize=(5, 5), dpi=300)\n",
    "\n",
    "    #plot edges\n",
    "    for _, n1, n2 in elements:\n",
    "        x_values = [node_dict[n1][0], node_dict[n2][0]]\n",
    "        y_values = [node_dict[n1][1], node_dict[n2][1]]\n",
    "        ax.plot(x_values, y_values, color='blue', lw=1.4, alpha=0.6)\n",
    "\n",
    "    #plot nodes\n",
    "    ax.scatter(nodes_array[:, 1], nodes_array[:, 2], s=24, color='black', zorder=2)\n",
    "\n",
    "    name = os.path.splitext(file_name)[0]\n",
    "    ax.set_title(f\"{name}\")\n",
    "    ax.set_aspect('equal')\n",
    "    save_path = os.path.join(output_folder, f\"{name}.png\")\n",
    "    fig.tight_layout()\n",
    "    fig.savefig(save_path)\n",
    "    plt.close(fig) \n"
   ]
  }
 ],
 "metadata": {
  "kernelspec": {
   "display_name": "GNN_ElasticModulus_Prediction",
   "language": "python",
   "name": "python3"
  },
  "language_info": {
   "codemirror_mode": {
    "name": "ipython",
    "version": 3
   },
   "file_extension": ".py",
   "mimetype": "text/x-python",
   "name": "python",
   "nbconvert_exporter": "python",
   "pygments_lexer": "ipython3",
   "version": "3.9.21"
  }
 },
 "nbformat": 4,
 "nbformat_minor": 2
}
